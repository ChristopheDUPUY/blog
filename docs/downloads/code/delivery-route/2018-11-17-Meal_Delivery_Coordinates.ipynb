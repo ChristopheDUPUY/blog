{
 "cells": [
  {
   "cell_type": "markdown",
   "metadata": {},
   "source": [
    "# Meal Delivery Coordinates\n",
    "*Developed for [Thanksgiving for Paso Robles](http://www.thanksgivingforpasorobles.com/)*"
   ]
  },
  {
   "cell_type": "code",
   "execution_count": 1,
   "metadata": {
    "ExecuteTime": {
     "end_time": "2018-11-20T20:34:25.604484Z",
     "start_time": "2018-11-20T20:34:25.132670Z"
    },
    "collapsed": true
   },
   "outputs": [],
   "source": [
    "import numpy as np\n",
    "import pandas as pd"
   ]
  },
  {
   "cell_type": "code",
   "execution_count": 2,
   "metadata": {
    "ExecuteTime": {
     "end_time": "2018-11-20T20:34:25.617494Z",
     "start_time": "2018-11-20T20:34:25.606382Z"
    }
   },
   "outputs": [
    {
     "name": "stdout",
     "output_type": "stream",
     "text": [
      "numpy       1.14.2\n",
      "pandas      0.23.4\n",
      "\n"
     ]
    }
   ],
   "source": [
    "%load_ext watermark\n",
    "%watermark -iv"
   ]
  },
  {
   "cell_type": "code",
   "execution_count": 3,
   "metadata": {
    "ExecuteTime": {
     "end_time": "2018-11-20T20:34:25.626108Z",
     "start_time": "2018-11-20T20:34:25.621206Z"
    },
    "collapsed": true
   },
   "outputs": [],
   "source": [
    "# Google Maps API authentication\n",
    "file  = open('GoogleMapsAPIKey.txt', 'r')\n",
    "apiKey = file.read()"
   ]
  },
  {
   "cell_type": "code",
   "execution_count": 4,
   "metadata": {
    "ExecuteTime": {
     "end_time": "2018-11-20T20:34:25.645906Z",
     "start_time": "2018-11-20T20:34:25.629312Z"
    },
    "collapsed": true
   },
   "outputs": [],
   "source": [
    "def get_lat_lng(apiKey, address):\n",
    "    \"\"\"\n",
    "    Returns the latitude and longitude of a location using the Google Maps Geocoding API. \n",
    "    API: https://developers.google.com/maps/documentation/geocoding/start\n",
    "    \n",
    "    # INPUT -------------------------------------------------------------------\n",
    "    apiKey                  [str]\n",
    "    address                 [str]\n",
    "\n",
    "    # RETURN ------------------------------------------------------------------\n",
    "    lat                     [float] \n",
    "    lng                     [float] \n",
    "    \"\"\"\n",
    "    import requests\n",
    "    url = ('https://maps.googleapis.com/maps/api/geocode/json?address={}&key={}'\n",
    "           .format(address.replace(' ','+'), apiKey))\n",
    "    try:\n",
    "        response = requests.get(url)\n",
    "        resp_json_payload = response.json()\n",
    "        lat = resp_json_payload['results'][0]['geometry']['location']['lat']\n",
    "        lng = resp_json_payload['results'][0]['geometry']['location']['lng']\n",
    "    except:\n",
    "        print('ERROR: {}'.format(address))\n",
    "        lat, lng = 0\n",
    "    return lat, lng"
   ]
  },
  {
   "cell_type": "code",
   "execution_count": 5,
   "metadata": {
    "ExecuteTime": {
     "end_time": "2018-11-20T20:34:26.379560Z",
     "start_time": "2018-11-20T20:34:25.648877Z"
    }
   },
   "outputs": [
    {
     "name": "stdout",
     "output_type": "stream",
     "text": [
      "33.9206814 -118.3280263\n"
     ]
    }
   ],
   "source": [
    "# test \n",
    "address = '1 Rocket Road, Hawthorne, CA'\n",
    "lat, lng = get_lat_lng(apiKey, address)\n",
    "print(lat, lng)"
   ]
  },
  {
   "cell_type": "code",
   "execution_count": 6,
   "metadata": {
    "ExecuteTime": {
     "end_time": "2018-11-20T20:34:26.455963Z",
     "start_time": "2018-11-20T20:34:26.382283Z"
    },
    "collapsed": true
   },
   "outputs": [],
   "source": [
    "df = pd.read_excel('2018 Meal Deliveries (coordinates).xlsx')"
   ]
  },
  {
   "cell_type": "code",
   "execution_count": 7,
   "metadata": {
    "ExecuteTime": {
     "end_time": "2018-11-20T20:35:03.650813Z",
     "start_time": "2018-11-20T20:34:26.458491Z"
    }
   },
   "outputs": [
    {
     "name": "stdout",
     "output_type": "stream",
     "text": [
      "\t(1/80) 35.623,-120.671: \t600 Nickerson Dr, Paso Robles, CA 93446\n",
      "\t(2/80) 35.646,-120.676: \t805 Experimental Station Road, Paso Robles, CA\n",
      "\t(3/80) 35.620,-120.661: \t1247 Lana St, Paso Robles, CA\n",
      "\t(4/80) 35.614,-120.678: \t401 Oakhill Rd, Paso Robles, CA\n",
      "\t(5/80) 35.626,-120.664: \t1047 Tranquil Hills Rd, Paso Robles, CA\n",
      "\t(6/80) 35.611,-120.658: \t274 San Carlos Dr, Paso Robles, CA\n",
      "\t(7/80) 35.607,-120.648: \t617 Queenann Rd, Paso Robles, CA\n",
      "\t(8/80) 35.616,-120.666: \t1069 Niblick Rd, Paso Robles, CA\n",
      "\t(9/80) 35.628,-120.677: \t550 Ferro Ln, Paso Robles, CA\n",
      "\t(10/80) 35.607,-120.647: \t1834 Larkellen Dr, Paso Robles, CA\n",
      "\t(11/80) 35.645,-120.693: \t2940 Spring St, Paso Robles, CA\n",
      "\t(12/80) 35.617,-120.675: \t384 Quarterhorse Ln, Paso Robles, CA\n",
      "\t(13/80) 35.608,-120.648: \t1741 Kings Dr, Paso Robles, CA\n",
      "\t(14/80) 35.628,-120.682: \t115 Almond St, Paso Robles, CA\n",
      "\t(15/80) 35.614,-120.678: \t401 Oakhill Rd, Paso Robles, CA\n",
      "\t(16/80) 35.642,-120.687: \t1215 Yasbel Ave, Paso Robles, CA\n",
      "\t(17/80) 35.645,-120.693: \t2940 Spring St, Paso Robles, CA\n",
      "\t(18/80) 35.645,-120.693: \t2940 Spring St, Paso Robles, CA\n",
      "\t(19/80) 35.645,-120.693: \t2940 Spring St, Paso Robles, CA\n",
      "\t(20/80) 35.620,-120.665: \t505 Melody Dr, Paso Robles, CA\n",
      "\t(21/80) 35.607,-120.648: \t618 Queenanne Rd, Paso Robles, CA\n",
      "\t(22/80) 35.645,-120.693: \t2940 Spring St, Paso Robles, CA\n",
      "\t(23/80) 35.613,-120.674: \t611 Nicklaus St, Paso Robles, CA\n",
      "\t(24/80) 35.634,-120.694: \t520 19th St, Paso Robles, CA\n",
      "\t(25/80) 35.644,-120.691: \t801 28th St, Paso Robles, CA\n",
      "\t(26/80) 35.645,-120.693: \t2940 Spring St, Paso Robles, CA\n",
      "\t(27/80) 35.607,-120.649: \t515 Queenanne Rd, Paso Robles, CA\n",
      "\t(28/80) 35.554,-120.718: \t238 Heather Ct, Templeton, CA\n",
      "\t(29/80) 35.610,-120.649: \t1733 Shepherd Dr, Paso Robles, CA\n",
      "\t(30/80) 35.635,-120.691: \t2012 Park St, Paso Robles, CA\n",
      "\t(31/80) 35.620,-120.657: \t1322 Buttercup Ln, Paso Robles, CA\n",
      "\t(32/80) 35.645,-120.693: \t2940 Spring St, Paso Robles, CA\n",
      "\t(33/80) 35.645,-120.693: \t2940 Spring St, Paso Robles, CA\n",
      "\t(34/80) 35.630,-120.672: \t743 Walnut Dr, Paso Robles, CA\n",
      "\t(35/80) 35.607,-120.673: \t796 Oxen St, Paso Robles, CA\n",
      "\t(36/80) 35.645,-120.693: \t2940 Spring St, Paso Robles, CA\n",
      "\t(37/80) 35.558,-120.719: \t24 Gray Pine Ave, Templeton, CA\n",
      "\t(38/80) 35.645,-120.693: \t2940 Spring St, Paso Robles, CA\n",
      "\t(39/80) 35.614,-120.678: \t401 Oakhill Rd, Paso Robles, CA\n",
      "\t(40/80) 35.614,-120.678: \t401 Oakhill Rd, Paso Robles, CA\n",
      "\t(41/80) 35.619,-120.654: \t339 Quail Summit, Paso Robles, CA\n",
      "\t(42/80) 35.645,-120.693: \t2940 Spring St, Paso Robles, CA\n",
      "\t(43/80) 35.616,-120.695: \t149 Olive St, Paso Robles, CA\n",
      "\t(44/80) 35.645,-120.693: \t2940 Spring St, Paso Robles, CA\n",
      "\t(45/80) 35.621,-120.663: \t1109 Lana St, Paso Robles, CA\n",
      "\t(46/80) 35.674,-120.607: \t4945 Beacon Rd, Paso Robles, CA\n",
      "\t(47/80) 35.609,-120.647: \t1719 Larkellen Dr, Paso Robles, CA\n",
      "\t(48/80) 35.577,-120.697: \t2838 Ramada Dr, Paso Robles, CA\n",
      "\t(49/80) 35.609,-120.646: \t1707 Larkellen Dr, Paso Robles, CA\n",
      "\t(50/80) 35.641,-120.670: \t1901 Kleck Rd, Paso Robles, CA\n",
      "\t(51/80) 35.645,-120.693: \t2940 Spring St, Paso Robles, CA\n",
      "\t(52/80) 35.607,-120.649: \t514 Queenanne Rd, Paso Robles, CA\n",
      "\t(53/80) 35.645,-120.693: \t2940 Spring St, Paso Robles, CA\n",
      "\t(54/80) 35.614,-120.678: \t401 Oakhill Rd, Paso Robles, CA\n",
      "\t(55/80) 35.604,-120.660: \t1219 Corral Creek Rd, Paso Robles, CA\n",
      "\t(56/80) 35.577,-120.697: \t2828 Ramada Dr, Paso Robles, CA\n",
      "\t(57/80) 35.616,-120.695: \t149 Olive St, Paso Robles, CA\n",
      "\t(58/80) 35.614,-120.678: \t401 Oakhill Rd, Paso Robles, CA\n",
      "\t(59/80) 35.645,-120.693: \t2940 Spring St, Paso Robles, CA\n",
      "\t(60/80) 35.625,-120.693: \t529 10th St, Paso Robles, CA\n",
      "\t(61/80) 35.577,-120.697: \t2838 Ramada Dr, Paso Robles, CA\n",
      "\t(62/80) 35.645,-120.693: \t2940 Spring St, Paso Robles, CA\n",
      "\t(63/80) 35.645,-120.693: \t2940 Spring St, Paso Robles, CA\n",
      "\t(64/80) 35.645,-120.693: \t2940 Spring St, Paso Robles, CA\n",
      "\t(65/80) 35.607,-120.648: \t620 Queenanne Dr, Paso Robles, CA\n",
      "\t(66/80) 35.646,-120.692: \t2908 Park St, Paso Robles, CA\n",
      "\t(67/80) 35.636,-120.694: \t2120 Vine St, Paso Robles, CA\n",
      "\t(68/80) 35.577,-120.697: \t2838 Ramada Dr, Paso Robles, CA\n",
      "\t(69/80) 35.622,-120.665: \t1063 Sylvia Circle, Paso Robles, CA\n",
      "\t(70/80) 35.604,-120.655: \t2466 Beechwood Dr, Paso Robles, CA\n",
      "\t(71/80) 35.577,-120.697: \t2838 Ramada Dr, Paso Robles, CA\n",
      "\t(72/80) 35.634,-120.689: \t1834 Pine St, Paso Robles, CA\n",
      "\t(73/80) 35.623,-120.703: \t485 Pacific Ave, Paso Robles, CA\n",
      "\t(74/80) 35.573,-120.701: \t465 Golden Meadow Dr, Paso Robles, CA\n",
      "\t(75/80) 35.607,-120.648: \t617 Queenann Rd, Paso Robles, CA\n",
      "\t(76/80) 35.602,-120.660: \t1213 Alamo Creek Terrace, Paso Robles, CA\n",
      "\t(77/80) 35.577,-120.697: \t2858 Ramada Dr , Paso Robles, CA\n",
      "\t(78/80) 35.625,-120.693: \t529 10th St, Paso Robles, CA\n",
      "\t(79/80) 35.607,-120.649: \t510 Queenanne Rd, Paso Robles, CA\n",
      "\t(80/80) 35.614,-120.678: \t401 Oakhill Rd, Paso Robles, CA\n"
     ]
    }
   ],
   "source": [
    "for row in range(df.shape[0]):\n",
    "    address = df.loc[df.index[row],'Address']\n",
    "    lat, lng = get_lat_lng(apiKey, address)\n",
    "    print('\\t({}/{}) {:.3f},{:.3f}: \\t{}'.format(row+1,df.shape[0],lat,lng,address))\n",
    "    df.loc[df.index[row],'lat'] = lat\n",
    "    df.loc[df.index[row],'lng'] = lng"
   ]
  },
  {
   "cell_type": "code",
   "execution_count": 8,
   "metadata": {
    "ExecuteTime": {
     "end_time": "2018-11-20T20:35:03.721331Z",
     "start_time": "2018-11-20T20:35:03.653053Z"
    },
    "collapsed": true
   },
   "outputs": [],
   "source": [
    "writer = pd.ExcelWriter('Meal Deliveries (coordinates).xlsx')\n",
    "df.to_excel(writer, sheet_name='Deliveries', index=False)\n",
    "writer.save()"
   ]
  },
  {
   "cell_type": "code",
   "execution_count": null,
   "metadata": {
    "collapsed": true
   },
   "outputs": [],
   "source": []
  }
 ],
 "metadata": {
  "anaconda-cloud": {},
  "kernelspec": {
   "display_name": "Python 3",
   "language": "python",
   "name": "python3"
  },
  "language_info": {
   "codemirror_mode": {
    "name": "ipython",
    "version": 3
   },
   "file_extension": ".py",
   "mimetype": "text/x-python",
   "name": "python",
   "nbconvert_exporter": "python",
   "pygments_lexer": "ipython3",
   "version": "3.6.3"
  },
  "toc": {
   "nav_menu": {},
   "number_sections": true,
   "sideBar": true,
   "skip_h1_title": false,
   "toc_cell": false,
   "toc_position": {},
   "toc_section_display": "block",
   "toc_window_display": false
  }
 },
 "nbformat": 4,
 "nbformat_minor": 2
}
