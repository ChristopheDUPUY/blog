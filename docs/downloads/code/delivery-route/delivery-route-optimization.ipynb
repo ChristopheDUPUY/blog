{
 "cells": [
  {
   "cell_type": "markdown",
   "metadata": {},
   "source": [
    "# Meal Delivery Optimization\n",
    "*Developed for [Thanksgiving for Paso Robles](http://www.thanksgivingforpasorobles.com/)*"
   ]
  },
  {
   "cell_type": "markdown",
   "metadata": {},
   "source": [
    "# Problem Statement\n",
    "A team needs to make deliveries to a set of addresses in a semi-optimized manner. The inputs are a [list of addresses to deliver to] and the number of drivers available. Our goal is to print a list of delivery addresses for each driver in an automated way so that if the address list or number of drivers available changes we can quickly re-generate the list.\n",
    "\n",
    "In this analysis we minimize the average time traveled by each driver while keeping the number of stops per driver roughly equal.\n"
   ]
  },
  {
   "cell_type": "markdown",
   "metadata": {},
   "source": [
    "Inputs:"
   ]
  },
  {
   "cell_type": "code",
   "execution_count": 1,
   "metadata": {
    "ExecuteTime": {
     "end_time": "2018-11-21T13:11:07.191307Z",
     "start_time": "2018-11-21T13:11:07.184788Z"
    },
    "collapsed": true
   },
   "outputs": [],
   "source": [
    "# 1. Enter the number of driveres:\n",
    "n_drivers = 12\n",
    "\n",
    "# 2. Enter the distance calculation method. Options\n",
    "#    - COORDINATES: Uses simple distance between lat/lng coordinates. Less accurate but quick.\n",
    "#    - GOOGLE: Uses the Google Distance Matrix API (more accurate but ~20 min for \n",
    "#              100 stops + fees).\n",
    "DISTANCE_METHOD='COORDINATES'"
   ]
  },
  {
   "cell_type": "code",
   "execution_count": 2,
   "metadata": {
    "ExecuteTime": {
     "end_time": "2018-11-21T13:11:07.934425Z",
     "start_time": "2018-11-21T13:11:07.193626Z"
    },
    "collapsed": true
   },
   "outputs": [],
   "source": [
    "%matplotlib inline\n",
    "import math\n",
    "import numpy as np\n",
    "import pandas as pd\n",
    "import random\n",
    "\n",
    "import matplotlib.pyplot as plt\n",
    "import matplotlib\n",
    "matplotlib.rcParams['figure.dpi'] = 150\n",
    "plt.style.use('seaborn-ticks')"
   ]
  },
  {
   "cell_type": "code",
   "execution_count": 3,
   "metadata": {
    "ExecuteTime": {
     "end_time": "2018-11-21T13:11:07.946108Z",
     "start_time": "2018-11-21T13:11:07.936624Z"
    }
   },
   "outputs": [
    {
     "name": "stdout",
     "output_type": "stream",
     "text": [
      "numpy       1.14.2\n",
      "pandas      0.23.4\n",
      "matplotlib  3.0.0\n",
      "\n"
     ]
    }
   ],
   "source": [
    "%load_ext watermark\n",
    "%watermark -iv"
   ]
  },
  {
   "cell_type": "code",
   "execution_count": 4,
   "metadata": {
    "ExecuteTime": {
     "end_time": "2018-11-21T13:11:07.952301Z",
     "start_time": "2018-11-21T13:11:07.948593Z"
    },
    "collapsed": true
   },
   "outputs": [],
   "source": [
    "# Google Maps API authentication\n",
    "file  = open('GoogleMapsAPIKey.txt', 'r')\n",
    "apiKey = file.read()"
   ]
  },
  {
   "cell_type": "markdown",
   "metadata": {},
   "source": [
    "## 1. Load Data\n",
    "We load the data required, which is a list of addresses needing deliveries. This list includes latitude and longitude of each address. Use [this script **ADD**]() to get the latitude and longitude if you don't already have them.\n",
    "\n",
    "Note that the first address in the list needs to be the home base where deliveries originate."
   ]
  },
  {
   "cell_type": "code",
   "execution_count": 5,
   "metadata": {
    "ExecuteTime": {
     "end_time": "2018-11-21T13:11:07.997679Z",
     "start_time": "2018-11-21T13:11:07.954293Z"
    },
    "collapsed": true
   },
   "outputs": [],
   "source": [
    "df = pd.read_excel('Meal Deliveries (coordinates).xlsx')"
   ]
  },
  {
   "cell_type": "markdown",
   "metadata": {},
   "source": [
    "# 3. Clustering\n",
    "We use the sklearn kmeans algorithm to cluster the locations into a group for each driver. Note that this does not gurantee an equal number of locations in each cluster, and may produce clusters with only one outlier locaiton. It may be necessary to manually adjust the number of clusters to arrive at an appropriate route for each driver."
   ]
  },
  {
   "cell_type": "code",
   "execution_count": 6,
   "metadata": {
    "ExecuteTime": {
     "end_time": "2018-11-21T13:11:08.012555Z",
     "start_time": "2018-11-21T13:11:07.999847Z"
    }
   },
   "outputs": [
    {
     "name": "stderr",
     "output_type": "stream",
     "text": [
      "/Users/matthewkudija/anaconda3/lib/python3.6/site-packages/ipykernel_launcher.py:1: FutureWarning: Method .as_matrix will be removed in a future version. Use .values instead.\n",
      "  \"\"\"Entry point for launching an IPython kernel.\n"
     ]
    },
    {
     "data": {
      "text/plain": [
       "array([[  35.6229385, -120.6707667],\n",
       "       [  35.646331 , -120.6755737],\n",
       "       [  35.620226 , -120.660585 ],\n",
       "       [  35.6137137, -120.6775696],\n",
       "       [  35.6260559, -120.6638703],\n",
       "       [  35.6110299, -120.6583439],\n",
       "       [  35.6070867, -120.6481666],\n",
       "       [  35.6160501, -120.6657123],\n",
       "       [  35.6278298, -120.6765845],\n",
       "       [  35.6072435, -120.6465714],\n",
       "       [  35.6450182, -120.6926439],\n",
       "       [  35.6168486, -120.6752143],\n",
       "       [  35.608402 , -120.647897 ],\n",
       "       [  35.6283834, -120.6824021],\n",
       "       [  35.6137137, -120.6775696],\n",
       "       [  35.6422097, -120.6871413],\n",
       "       [  35.6450182, -120.6926439],\n",
       "       [  35.6450182, -120.6926439],\n",
       "       [  35.6450182, -120.6926439],\n",
       "       [  35.6198394, -120.6647688],\n",
       "       [  35.606651 , -120.648149 ],\n",
       "       [  35.6450182, -120.6926439],\n",
       "       [  35.612539 , -120.67406  ],\n",
       "       [  35.6337079, -120.6940004],\n",
       "       [  35.6436415, -120.6912065],\n",
       "       [  35.6450182, -120.6926439],\n",
       "       [  35.607081 , -120.6492226],\n",
       "       [  35.5539271, -120.7176303],\n",
       "       [  35.6095445, -120.6487957],\n",
       "       [  35.6354169, -120.6905103],\n",
       "       [  35.6200169, -120.6565466],\n",
       "       [  35.6450182, -120.6926439],\n",
       "       [  35.6450182, -120.6926439],\n",
       "       [  35.630211 , -120.6715529],\n",
       "       [  35.6067621, -120.6727209],\n",
       "       [  35.6450182, -120.6926439],\n",
       "       [  35.5576835, -120.7186266],\n",
       "       [  35.6450182, -120.6926439],\n",
       "       [  35.6137137, -120.6775696],\n",
       "       [  35.6137137, -120.6775696],\n",
       "       [  35.619131 , -120.653972 ],\n",
       "       [  35.6450182, -120.6926439],\n",
       "       [  35.6160777, -120.6947621],\n",
       "       [  35.6450182, -120.6926439],\n",
       "       [  35.6209014, -120.6633311],\n",
       "       [  35.6735163, -120.6067497],\n",
       "       [  35.6089219, -120.6465265],\n",
       "       [  35.5770514, -120.6965048],\n",
       "       [  35.6091273, -120.6463468],\n",
       "       [  35.6407966, -120.6698457],\n",
       "       [  35.6450182, -120.6926439],\n",
       "       [  35.606659 , -120.649222 ],\n",
       "       [  35.6450182, -120.6926439],\n",
       "       [  35.6137137, -120.6775696],\n",
       "       [  35.6042049, -120.6602591],\n",
       "       [  35.5770715, -120.6965018],\n",
       "       [  35.6160777, -120.6947621],\n",
       "       [  35.6137137, -120.6775696],\n",
       "       [  35.6450182, -120.6926439],\n",
       "       [  35.6248625, -120.6930033],\n",
       "       [  35.5770514, -120.6965048],\n",
       "       [  35.6450182, -120.6926439],\n",
       "       [  35.6450182, -120.6926439],\n",
       "       [  35.6450182, -120.6926439],\n",
       "       [  35.606644 , -120.648016 ],\n",
       "       [  35.6455568, -120.6917313],\n",
       "       [  35.6363578, -120.6944631],\n",
       "       [  35.5770514, -120.6965048],\n",
       "       [  35.6222136, -120.6645891],\n",
       "       [  35.6044469, -120.6548842],\n",
       "       [  35.5770514, -120.6965048],\n",
       "       [  35.6337824, -120.6891627],\n",
       "       [  35.622806 , -120.703027 ],\n",
       "       [  35.573421 , -120.700866 ],\n",
       "       [  35.6070867, -120.6481666],\n",
       "       [  35.6022583, -120.660365 ],\n",
       "       [  35.5770112, -120.6965106],\n",
       "       [  35.6248625, -120.6930033],\n",
       "       [  35.606656 , -120.649361 ],\n",
       "       [  35.6137137, -120.6775696]])"
      ]
     },
     "execution_count": 6,
     "metadata": {},
     "output_type": "execute_result"
    }
   ],
   "source": [
    "X = df.as_matrix(columns=['lat','lng'])\n",
    "X"
   ]
  },
  {
   "cell_type": "code",
   "execution_count": 7,
   "metadata": {
    "ExecuteTime": {
     "end_time": "2018-11-21T13:11:08.380119Z",
     "start_time": "2018-11-21T13:11:08.017261Z"
    }
   },
   "outputs": [
    {
     "data": {
      "text/plain": [
       "<matplotlib.collections.PathCollection at 0x116679278>"
      ]
     },
     "execution_count": 7,
     "metadata": {},
     "output_type": "execute_result"
    },
    {
     "data": {
      "image/png": "[encoded data removed]",
      "text/plain": [
       "<Figure size 900x600 with 1 Axes>"
      ]
     },
     "metadata": {},
     "output_type": "display_data"
    }
   ],
   "source": [
    "# plt.scatter(X[:, 0], X[:, 1])\n",
    "plt.scatter(df['lng'], df['lat'])"
   ]
  },
  {
   "cell_type": "code",
   "execution_count": 8,
   "metadata": {
    "ExecuteTime": {
     "end_time": "2018-11-21T13:11:08.387278Z",
     "start_time": "2018-11-21T13:11:08.382583Z"
    },
    "collapsed": true
   },
   "outputs": [],
   "source": [
    "# # create distance matrix (from coordinates)\n",
    "# D = np.zeros(shape=(df.shape[0],df.shape[0]))\n",
    "\n",
    "# for row in range(df.shape[0]): \n",
    "#     origin = df.loc[df.index[row],'Address']\n",
    "#     orig_lat = df.loc[df.index[row],'lat']\n",
    "#     orig_lng = df.loc[df.index[row],'lng']\n",
    "#     for col in range(df.shape[0]):\n",
    "#         destination = df.loc[df.index[col],'Address']\n",
    "#         dest_lat = df.loc[df.index[col],'lat']\n",
    "#         dest_lng = df.loc[df.index[col],'lng']\n",
    "#         if origin!=destination:\n",
    "#             distance = math.sqrt((dest_lat-orig_lat)**2 + (dest_lng-orig_lng)**2) * 1000              \n",
    "#             D[row,col] = distance\n",
    "# D"
   ]
  },
  {
   "cell_type": "code",
   "execution_count": 9,
   "metadata": {
    "ExecuteTime": {
     "end_time": "2018-11-21T13:11:08.417955Z",
     "start_time": "2018-11-21T13:11:08.389738Z"
    },
    "collapsed": true
   },
   "outputs": [],
   "source": [
    "def get_drive_time(apiKey, origin, destination):\n",
    "    \"\"\"\n",
    "    Returns the driving time between using the Google Maps Distance Matrix API. \n",
    "    API: https://developers.google.com/maps/documentation/distance-matrix/start\n",
    "\n",
    "    \n",
    "    # INPUT -------------------------------------------------------------------\n",
    "    apiKey                  [str]\n",
    "    origin                  [str]\n",
    "    destination             [str]\n",
    "\n",
    "    # RETURN ------------------------------------------------------------------\n",
    "    drive_tim               [float] (minutes)\n",
    "    \"\"\"\n",
    "    import requests\n",
    "    url = ('https://maps.googleapis.com/maps/api/distancematrix/json?units=imperial&origins={}&destinations={}&key={}'\n",
    "           .format(origin.replace(' ','+'),\n",
    "                   destination.replace(' ','+'),\n",
    "                   apiKey\n",
    "                  )\n",
    "          )\n",
    "    try:\n",
    "        response = requests.get(url)\n",
    "        resp_json_payload = response.json()\n",
    "        drive_time = resp_json_payload['rows'][0]['elements'][0]['duration']['value']/60\n",
    "    except:\n",
    "        print('ERROR: {}, {}'.format(origin, destination))\n",
    "        drive_time = 0\n",
    "    return drive_time\n",
    "           \n",
    "# test...\n",
    "# origin = '3272 Ainwick Road, Columbus, OH'\n",
    "# destination = '375 N Front St. Columbus, OH'\n",
    "# drive_time = get_drive_time(apiKey, origin, destination)\n",
    "# print(drive_time)"
   ]
  },
  {
   "cell_type": "code",
   "execution_count": 10,
   "metadata": {
    "ExecuteTime": {
     "end_time": "2018-11-21T13:11:08.666631Z",
     "start_time": "2018-11-21T13:11:08.420893Z"
    }
   },
   "outputs": [
    {
     "data": {
      "text/plain": [
       "array([[ 0.        , 23.88129614, 10.53682453, ..., 22.3196809 ,\n",
       "        26.89467975, 11.46195374],\n",
       "       [23.88129614,  0.        , 30.10202905, ..., 27.65298263,\n",
       "        47.55219518, 32.67830895],\n",
       "       [10.53682453, 30.10202905,  0.        , ..., 32.74818021,\n",
       "        17.61031164, 18.19029105],\n",
       "       ...,\n",
       "       [22.3196809 , 27.65298263, 32.74818021, ...,  0.        ,\n",
       "        47.28770444, 19.03929718],\n",
       "       [26.89467975, 47.55219518, 17.61031164, ..., 47.28770444,\n",
       "         0.        , 29.07810591],\n",
       "       [11.46195374, 32.67830895, 18.19029105, ..., 19.03929718,\n",
       "        29.07810591,  0.        ]])"
      ]
     },
     "execution_count": 10,
     "metadata": {},
     "output_type": "execute_result"
    }
   ],
   "source": [
    "# create distance matrix (from Google Distance Matrix API)\n",
    "# https://developers.google.com/maps/documentation/distance-matrix/start\n",
    "\n",
    "D = np.zeros(shape=(df.shape[0],df.shape[0]))\n",
    "\n",
    "for row in range(df.shape[0]): \n",
    "    origin = df.loc[df.index[row],'Address']\n",
    "    orig_lat = df.loc[df.index[row],'lat']\n",
    "    orig_lng = df.loc[df.index[row],'lng']\n",
    "    for col in range(df.shape[0]):\n",
    "        destination = df.loc[df.index[col],'Address']\n",
    "        dest_lat = df.loc[df.index[col],'lat']\n",
    "        dest_lng = df.loc[df.index[col],'lng']\n",
    "        if origin!=destination:\n",
    "            if DISTANCE_METHOD=='GOOGLE':\n",
    "                distance = get_drive_time(apiKey, origin, destination)\n",
    "            elif DISTANCE_METHOD=='COORDINATES':\n",
    "                distance = math.sqrt((dest_lat-orig_lat)**2 + (dest_lng-orig_lng)**2) * 1000              \n",
    "            D[row,col] = distance\n",
    "D"
   ]
  },
  {
   "cell_type": "code",
   "execution_count": 11,
   "metadata": {
    "ExecuteTime": {
     "end_time": "2018-11-21T13:11:08.672105Z",
     "start_time": "2018-11-21T13:11:08.668759Z"
    },
    "collapsed": true
   },
   "outputs": [],
   "source": [
    "# locs = [0,24]\n",
    "# origin = df.loc[df.index[locs[0]],'Address']\n",
    "# destination = df.loc[df.index[locs[1]],'Address']\n",
    "# dist = D[locs[0],locs[1]]\n",
    "# print('Distance between:\\n{}\\n{}\\n{}'.format(origin,destination,dist))"
   ]
  },
  {
   "cell_type": "code",
   "execution_count": 12,
   "metadata": {
    "ExecuteTime": {
     "end_time": "2018-11-21T13:11:08.744306Z",
     "start_time": "2018-11-21T13:11:08.674546Z"
    },
    "collapsed": true
   },
   "outputs": [],
   "source": [
    "def get_driver_distance(locations):\n",
    "    # location 0 is home base, so prepend and append list\n",
    "    locations.insert(0, 0)\n",
    "    locations.append(0)\n",
    "    driver_distance = 0\n",
    "    for i in range(len(locations)-1):\n",
    "        distance = D[locations[i],locations[i+1]]\n",
    "        driver_distance += distance\n",
    "    return driver_distance\n",
    "\n",
    "def switch_two(all_locs):\n",
    "    i = random.sample(range(1,len(all_locs)), 2)\n",
    "#     print(i)\n",
    "    all_locs_new = all_locs[:]\n",
    "    all_locs_new[i[0]] = all_locs[i[1]]\n",
    "    all_locs_new[i[1]] = all_locs[i[0]]\n",
    "    return all_locs_new\n",
    "\n",
    "def divide_list(my_list, n_result):\n",
    "    avg = len(my_list) / float(n_result)\n",
    "    my_list_divided = []\n",
    "    last = 0.0\n",
    "    while last < len(my_list):\n",
    "        my_list_divided.append(my_list[int(last):int(last + avg)])\n",
    "        last += avg\n",
    "    return my_list_divided\n",
    "\n",
    "def get_total_distance(driver_routes):\n",
    "    total_distance = 0\n",
    "    driver_distances = []\n",
    "    for i in range(len(driver_routes)):\n",
    "        driver_distance = get_driver_distance(driver_routes[i])\n",
    "        driver_distances.append(driver_distance)\n",
    "        total_distance+=driver_distance\n",
    "    return total_distance, driver_distances\n",
    "\n",
    "def get_avg_distance(driver_routes):\n",
    "    driver_distances = []\n",
    "    for i in range(len(driver_routes)):\n",
    "        driver_distance = get_driver_distance(driver_routes[i])\n",
    "        driver_distances.append(driver_distance)\n",
    "    avg_distance = np.mean(driver_distances)\n",
    "    return avg_distance, driver_distances"
   ]
  },
  {
   "cell_type": "code",
   "execution_count": 13,
   "metadata": {
    "ExecuteTime": {
     "end_time": "2018-11-21T13:11:09.639952Z",
     "start_time": "2018-11-21T13:11:08.749317Z"
    }
   },
   "outputs": [
    {
     "name": "stdout",
     "output_type": "stream",
     "text": [
      "260.9888544166907\n"
     ]
    },
    {
     "data": {
      "text/plain": [
       "Text(0.5, 0, '# Iterations')"
      ]
     },
     "execution_count": 13,
     "metadata": {},
     "output_type": "execute_result"
    },
    {
     "data": {
      "image/png": "[encoded data removed]",
      "text/plain": [
       "<Figure size 900x600 with 1 Axes>"
      ]
     },
     "metadata": {},
     "output_type": "display_data"
    }
   ],
   "source": [
    "all_locs = list(range(df.shape[0]))[1:]\n",
    "driver_routes = divide_list(my_list=all_locs, n_result=n_drivers)\n",
    "avg_difference, driver_distances = get_avg_distance(driver_routes)\n",
    "print(avg_difference)\n",
    "\n",
    "distances = []\n",
    "for i in range(10000):\n",
    "#     all_locs_new = all_locs[:]\n",
    "    all_locs_new = switch_two(all_locs)\n",
    "    driver_routes_new = divide_list(my_list=all_locs_new, n_result=n_drivers)\n",
    "    avg_difference_new, driver_distances = get_avg_distance(driver_routes_new)\n",
    "\n",
    "    if avg_difference_new < avg_difference:\n",
    "        all_locs = all_locs_new[:]\n",
    "        avg_difference = avg_difference_new\n",
    "        distances.append(avg_difference)\n",
    "    else:\n",
    "        distances.append(avg_difference)\n",
    "\n",
    "plt.plot(range(len(distances)),distances)\n",
    "plt.ylabel('Cost Function (Average Distance)')\n",
    "plt.xlabel('# Iterations')"
   ]
  },
  {
   "cell_type": "code",
   "execution_count": 14,
   "metadata": {
    "ExecuteTime": {
     "end_time": "2018-11-21T13:11:09.650060Z",
     "start_time": "2018-11-21T13:11:09.642253Z"
    }
   },
   "outputs": [
    {
     "data": {
      "text/plain": [
       "[[0, 1, 45, 74, 51, 78, 5, 0],\n",
       " [0, 31, 41, 62, 10, 58, 18, 63, 0],\n",
       " [0, 29, 52, 16, 17, 12, 24, 0],\n",
       " [0, 37, 21, 50, 66, 23, 77, 59, 0],\n",
       " [0, 34, 47, 67, 70, 60, 55, 0],\n",
       " [0, 42, 72, 36, 27, 73, 76, 39, 0],\n",
       " [0, 79, 56, 3, 57, 38, 14, 53, 0],\n",
       " [0, 54, 75, 69, 40, 30, 19, 0],\n",
       " [0, 26, 6, 64, 20, 7, 22, 11, 0],\n",
       " [0, 15, 61, 43, 35, 32, 65, 0],\n",
       " [0, 13, 71, 49, 4, 68, 8, 33, 0],\n",
       " [0, 28, 48, 46, 9, 25, 2, 44, 0]]"
      ]
     },
     "execution_count": 14,
     "metadata": {},
     "output_type": "execute_result"
    }
   ],
   "source": [
    "driver_routes_new"
   ]
  },
  {
   "cell_type": "code",
   "execution_count": 15,
   "metadata": {
    "ExecuteTime": {
     "end_time": "2018-11-21T13:11:09.658428Z",
     "start_time": "2018-11-21T13:11:09.653221Z"
    }
   },
   "outputs": [
    {
     "data": {
      "text/plain": [
       "[204.64069433523474,\n",
       " 62.165103777920415,\n",
       " 175.9386732913723,\n",
       " 73.84305507887024,\n",
       " 106.96568741243846,\n",
       " 190.58444452531822,\n",
       " 57.63243969425821,\n",
       " 61.74084652348397,\n",
       " 69.38647167107722,\n",
       " 63.36597959532197,\n",
       " 87.99055843397626,\n",
       " 140.81081004096612]"
      ]
     },
     "execution_count": 15,
     "metadata": {},
     "output_type": "execute_result"
    }
   ],
   "source": [
    "driver_distances"
   ]
  },
  {
   "cell_type": "code",
   "execution_count": 16,
   "metadata": {
    "ExecuteTime": {
     "end_time": "2018-11-21T13:11:09.667585Z",
     "start_time": "2018-11-21T13:11:09.661212Z"
    }
   },
   "outputs": [
    {
     "data": {
      "text/plain": [
       "1295.064764380238"
      ]
     },
     "execution_count": 16,
     "metadata": {},
     "output_type": "execute_result"
    }
   ],
   "source": [
    "sum(driver_distances)"
   ]
  },
  {
   "cell_type": "code",
   "execution_count": 17,
   "metadata": {
    "ExecuteTime": {
     "end_time": "2018-11-21T13:11:09.677576Z",
     "start_time": "2018-11-21T13:11:09.671637Z"
    }
   },
   "outputs": [
    {
     "data": {
      "text/plain": [
       "52.97856239857731"
      ]
     },
     "execution_count": 17,
     "metadata": {},
     "output_type": "execute_result"
    }
   ],
   "source": [
    "np.std(driver_distances)"
   ]
  },
  {
   "cell_type": "code",
   "execution_count": 18,
   "metadata": {
    "ExecuteTime": {
     "end_time": "2018-11-21T13:11:09.685802Z",
     "start_time": "2018-11-21T13:11:09.680790Z"
    }
   },
   "outputs": [
    {
     "name": "stdout",
     "output_type": "stream",
     "text": [
      "147.00825464097653\n"
     ]
    }
   ],
   "source": [
    "print(max(driver_distances)-min(driver_distances))"
   ]
  },
  {
   "cell_type": "markdown",
   "metadata": {},
   "source": [
    "# Print Driver Lists"
   ]
  },
  {
   "cell_type": "code",
   "execution_count": 19,
   "metadata": {
    "ExecuteTime": {
     "end_time": "2018-11-21T13:11:09.734567Z",
     "start_time": "2018-11-21T13:11:09.688491Z"
    },
    "collapsed": true
   },
   "outputs": [],
   "source": [
    "# write driver-stop to dataframe\n",
    "df['Driver-Stop'] = ''\n",
    "for driver in range(len(driver_routes_new)):\n",
    "    for stop in range(len(driver_routes_new[driver])):\n",
    "        row = driver_routes_new[driver][stop]\n",
    "        if row>0:\n",
    "            if driver+1<10:\n",
    "                df.loc[df.index[row],'Driver-Stop'] = '0{}-{}'.format(driver+1,stop)\n",
    "            else:\n",
    "                df.loc[df.index[row],'Driver-Stop'] = '{}-{}'.format(driver+1,stop)        "
   ]
  },
  {
   "cell_type": "code",
   "execution_count": 20,
   "metadata": {
    "ExecuteTime": {
     "end_time": "2018-11-21T13:11:09.844249Z",
     "start_time": "2018-11-21T13:11:09.736777Z"
    }
   },
   "outputs": [
    {
     "name": "stdout",
     "output_type": "stream",
     "text": [
      "Done.\n"
     ]
    }
   ],
   "source": [
    "# save Excel\n",
    "cols = ['Driver-Stop','Qty','Address','Apt','Last Name','First Name','Phone',\n",
    "        'Note1','Note2', 'Note3', 'Confirmed']\n",
    "df = df[cols].sort_values('Driver-Stop')\n",
    "writer = pd.ExcelWriter('Delivery List.xlsx')\n",
    "df.to_excel(writer, sheet_name='Deliveries', index=False)\n",
    "writer.save()\n",
    "print('Done.')"
   ]
  },
  {
   "cell_type": "code",
   "execution_count": 21,
   "metadata": {
    "ExecuteTime": {
     "end_time": "2018-11-21T13:11:09.854728Z",
     "start_time": "2018-11-21T13:11:09.848192Z"
    },
    "collapsed": true
   },
   "outputs": [],
   "source": [
    "# # creat google maps URL for each driver\n",
    "# df['Driver-Stop'] = ''\n",
    "# for driver in range(len(driver_routes_new)):\n",
    "#     print('\\n\\nDRIVER {}'.format(driver+1))\n",
    "#     addresses = []\n",
    "#     for stop in range(len(driver_routes_new[driver])):\n",
    "#         row = driver_routes_new[driver][stop]\n",
    "#         address = df.loc[df.index[row],'Address']\n",
    "#         apt = df.loc[df.index[row],'Apt']\n",
    "#         qty = df.loc[df.index[row],'Qty']\n",
    "#         addresses.append(address)\n",
    "#         if row>0:\n",
    "#             if driver+1<n_drivers+1:\n",
    "#                 if pd.isnull(apt):\n",
    "#                     print('\\tQty {}: {}'.format(qty,address))\n",
    "#                 else:\n",
    "#                     print('\\tQty {}: {} (#{})'.format(qty,address,apt))\n",
    "#     url = 'https://www.google.com/maps/dir'\n",
    "#     for item in addresses:\n",
    "#         url_add = '/{}'.format(item.replace(' ','+'))\n",
    "#         url = url+url_add\n",
    "#     print('Directions: '+url)"
   ]
  },
  {
   "cell_type": "code",
   "execution_count": 22,
   "metadata": {
    "ExecuteTime": {
     "end_time": "2018-11-21T13:11:09.995314Z",
     "start_time": "2018-11-21T13:11:09.856781Z"
    }
   },
   "outputs": [
    {
     "name": "stdout",
     "output_type": "stream",
     "text": [
      "Done.\n"
     ]
    }
   ],
   "source": [
    "# create summary for each driver\n",
    "df['Name'] = df['First Name']+' '+df['Last Name']\n",
    "df['Note1'] = df['Note1'].fillna('')\n",
    "df['Phone'] = df['Phone'].fillna('            ')\n",
    "\n",
    "file  = open('Delivery List.txt', 'w')\n",
    "file.write('Driver Summary')\n",
    "df['Driver-Stop'] = ''\n",
    "for driver in range(len(driver_routes_new)):\n",
    "    file.write('\\n\\nDRIVER {}'.format(driver+1))\n",
    "    addresses = []\n",
    "    for stop in range(len(driver_routes_new[driver])):\n",
    "        row = driver_routes_new[driver][stop]\n",
    "        address = df.loc[df.index[row],'Address']\n",
    "        apt = df.loc[df.index[row],'Apt']\n",
    "        qty = df.loc[df.index[row],'Qty']\n",
    "        phone = df.loc[df.index[row],'Phone']\n",
    "        name = df.loc[df.index[row],'Name']\n",
    "        note = df.loc[df.index[row],'Note1']\n",
    "        addresses.append(address)\n",
    "        if row>0:\n",
    "            if driver+1<n_drivers+1:\n",
    "                if pd.isnull(apt):\n",
    "                    file.write('\\n  - Qty {}: {}'.format(qty,address))\n",
    "                    # file.write('\\n({}) {:<14}{:<25}{}\\t{}'.format(qty,phone,name,address,note))\n",
    "                else:\n",
    "                    file.write('\\n  - Qty {}: {} (#{})'.format(qty,address,apt))\n",
    "                    # file.write('\\n({}) {:<14}{:<25}{} (#{})\\t{}'.format(qty,phone,name,address,apt,note))\n",
    "    url = 'https://www.google.com/maps/dir'\n",
    "    for item in addresses:\n",
    "        url_add = '/{}'.format(item.replace(' ','+'))\n",
    "        url = url+url_add\n",
    "    file.write('\\nDirections: {}'.format(url))\n",
    "file.close()\n",
    "print('Done.')"
   ]
  },
  {
   "cell_type": "code",
   "execution_count": null,
   "metadata": {
    "collapsed": true
   },
   "outputs": [],
   "source": []
  }
 ],
 "metadata": {
  "anaconda-cloud": {},
  "kernelspec": {
   "display_name": "Python 3",
   "language": "python",
   "name": "python3"
  },
  "language_info": {
   "codemirror_mode": {
    "name": "ipython",
    "version": 3
   },
   "file_extension": ".py",
   "mimetype": "text/x-python",
   "name": "python",
   "nbconvert_exporter": "python",
   "pygments_lexer": "ipython3",
   "version": "3.6.3"
  },
  "toc": {
   "nav_menu": {},
   "number_sections": true,
   "sideBar": true,
   "skip_h1_title": false,
   "toc_cell": false,
   "toc_position": {},
   "toc_section_display": "block",
   "toc_window_display": false
  }
 },
 "nbformat": 4,
 "nbformat_minor": 2
}
