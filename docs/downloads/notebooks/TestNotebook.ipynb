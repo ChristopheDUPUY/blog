{
 "cells": [
  {
   "cell_type": "markdown",
   "metadata": {},
   "source": [
    "## This Is An IPython Notebook"
   ]
  },
  {
   "cell_type": "markdown",
   "metadata": {},
   "source": [
    "Here is some code:"
   ]
  },
  {
   "cell_type": "code",
   "execution_count": 1,
   "metadata": {
    "collapsed": true
   },
   "outputs": [],
   "source": [
    "import pandas as pd\n",
    "import numpy as np"
   ]
  },
  {
   "cell_type": "code",
   "execution_count": 2,
   "metadata": {},
   "outputs": [
    {
     "name": "stdout",
     "output_type": "stream",
     "text": [
      "numpy       1.12.1\n",
      "pandas      0.20.1\n",
      "2018-03-19\n"
     ]
    }
   ],
   "source": [
    "%load_ext watermark\n",
    "%watermark -d -iv"
   ]
  },
  {
   "cell_type": "code",
   "execution_count": 3,
   "metadata": {
    "collapsed": true
   },
   "outputs": [],
   "source": [
    "df = pd.read_html('https://en.wikipedia.org/wiki/List_of_sculptures_in_the_National_Statuary_Hall_Collection')"
   ]
  },
  {
   "cell_type": "code",
   "execution_count": 5,
   "metadata": {},
   "outputs": [
    {
     "data": {
      "text/html": [
       "<div>\n",
       "<style>\n",
       "    .dataframe thead tr:only-child th {\n",
       "        text-align: right;\n",
       "    }\n",
       "\n",
       "    .dataframe thead th {\n",
       "        text-align: left;\n",
       "    }\n",
       "\n",
       "    .dataframe tbody tr th {\n",
       "        vertical-align: top;\n",
       "    }\n",
       "</style>\n",
       "<table border=\"1\" class=\"dataframe\">\n",
       "  <thead>\n",
       "    <tr style=\"text-align: right;\">\n",
       "      <th>1</th>\n",
       "      <th>AL</th>\n",
       "      <th>Keller, HelenHelen Keller See also: Helen Keller (Hlavka)</th>\n",
       "      <th>nan</th>\n",
       "      <th>Bronze</th>\n",
       "      <th>Edward Hlavka</th>\n",
       "      <th>2009</th>\n",
       "      <th>Capitol Visitor Center[1]</th>\n",
       "    </tr>\n",
       "  </thead>\n",
       "  <tbody>\n",
       "    <tr>\n",
       "      <th>0</th>\n",
       "      <td>State</td>\n",
       "      <td>Honoree</td>\n",
       "      <td>Image</td>\n",
       "      <td>Medium</td>\n",
       "      <td>Sculptor</td>\n",
       "      <td>Date placed</td>\n",
       "      <td>Location</td>\n",
       "    </tr>\n",
       "    <tr>\n",
       "      <th>1</th>\n",
       "      <td>AL</td>\n",
       "      <td>Keller, HelenHelen Keller See also: Helen Kell...</td>\n",
       "      <td>NaN</td>\n",
       "      <td>Bronze</td>\n",
       "      <td>Edward Hlavka</td>\n",
       "      <td>2009</td>\n",
       "      <td>Capitol Visitor Center[1]</td>\n",
       "    </tr>\n",
       "    <tr>\n",
       "      <th>2</th>\n",
       "      <td>AL</td>\n",
       "      <td>Wheeler, JosephJoseph Wheeler See also: Joseph...</td>\n",
       "      <td>NaN</td>\n",
       "      <td>Bronze</td>\n",
       "      <td>Berthold Nebel</td>\n",
       "      <td>1925</td>\n",
       "      <td>National Statuary Hall</td>\n",
       "    </tr>\n",
       "    <tr>\n",
       "      <th>3</th>\n",
       "      <td>AK</td>\n",
       "      <td>Bartlett, Edward Lewis \"Bob\"Edward Lewis \"Bob\"...</td>\n",
       "      <td>NaN</td>\n",
       "      <td>Bronze</td>\n",
       "      <td>Felix W. de Weldon</td>\n",
       "      <td>1971</td>\n",
       "      <td>House corridor, 2nd Floor</td>\n",
       "    </tr>\n",
       "    <tr>\n",
       "      <th>4</th>\n",
       "      <td>AK</td>\n",
       "      <td>Gruening, ErnestErnest Gruening</td>\n",
       "      <td>NaN</td>\n",
       "      <td>Bronze</td>\n",
       "      <td>George Anthonisen</td>\n",
       "      <td>1977</td>\n",
       "      <td>Capitol Visitor Center</td>\n",
       "    </tr>\n",
       "  </tbody>\n",
       "</table>\n",
       "</div>"
      ],
      "text/plain": [
       "1     AL Keller, HelenHelen Keller See also: Helen Keller (Hlavka)    NaN  \\\n",
       "0  State                                            Honoree         Image   \n",
       "1     AL  Keller, HelenHelen Keller See also: Helen Kell...           NaN   \n",
       "2     AL  Wheeler, JosephJoseph Wheeler See also: Joseph...           NaN   \n",
       "3     AK  Bartlett, Edward Lewis \"Bob\"Edward Lewis \"Bob\"...           NaN   \n",
       "4     AK                    Gruening, ErnestErnest Gruening           NaN   \n",
       "\n",
       "1  Bronze       Edward Hlavka         2009  Capitol Visitor Center[1]  \n",
       "0  Medium            Sculptor  Date placed                   Location  \n",
       "1  Bronze       Edward Hlavka         2009  Capitol Visitor Center[1]  \n",
       "2  Bronze      Berthold Nebel         1925     National Statuary Hall  \n",
       "3  Bronze  Felix W. de Weldon         1971  House corridor, 2nd Floor  \n",
       "4  Bronze   George Anthonisen         1977     Capitol Visitor Center  "
      ]
     },
     "execution_count": 5,
     "metadata": {},
     "output_type": "execute_result"
    }
   ],
   "source": [
    "df = df[0]\n",
    "df.columns = df.iloc[1]\n",
    "df.reindex(df.index.drop(1))\n",
    "df.head()"
   ]
  },
  {
   "cell_type": "code",
   "execution_count": null,
   "metadata": {
    "collapsed": true
   },
   "outputs": [],
   "source": []
  }
 ],
 "metadata": {
  "kernelspec": {
   "display_name": "Python [Root]",
   "language": "python",
   "name": "Python [Root]"
  },
  "language_info": {
   "codemirror_mode": {
    "name": "ipython",
    "version": 3
   },
   "file_extension": ".py",
   "mimetype": "text/x-python",
   "name": "python",
   "nbconvert_exporter": "python",
   "pygments_lexer": "ipython3",
   "version": "3.5.3"
  }
 },
 "nbformat": 4,
 "nbformat_minor": 1
}
