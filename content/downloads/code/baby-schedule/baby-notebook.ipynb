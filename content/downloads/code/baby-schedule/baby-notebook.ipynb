{
 "cells": [
  {
   "cell_type": "code",
   "execution_count": 1,
   "metadata": {
    "ExecuteTime": {
     "end_time": "2018-08-21T13:24:43.153845Z",
     "start_time": "2018-08-21T13:24:42.770598Z"
    }
   },
   "outputs": [
    {
     "data": {
      "text/html": [
       "<div>\n",
       "<style scoped>\n",
       "    .dataframe tbody tr th:only-of-type {\n",
       "        vertical-align: middle;\n",
       "    }\n",
       "\n",
       "    .dataframe tbody tr th {\n",
       "        vertical-align: top;\n",
       "    }\n",
       "\n",
       "    .dataframe thead th {\n",
       "        text-align: right;\n",
       "    }\n",
       "</style>\n",
       "<table border=\"1\" class=\"dataframe\">\n",
       "  <thead>\n",
       "    <tr style=\"text-align: right;\">\n",
       "      <th></th>\n",
       "      <th>Baby</th>\n",
       "      <th>Time</th>\n",
       "      <th>Duration(minutes)</th>\n",
       "      <th>Note</th>\n",
       "    </tr>\n",
       "  </thead>\n",
       "  <tbody>\n",
       "    <tr>\n",
       "      <th>0</th>\n",
       "      <td>Baby1</td>\n",
       "      <td>2018-08-01 00:38:00</td>\n",
       "      <td>92</td>\n",
       "      <td>NaN</td>\n",
       "    </tr>\n",
       "    <tr>\n",
       "      <th>1</th>\n",
       "      <td>Baby1</td>\n",
       "      <td>2018-08-01 03:11:00</td>\n",
       "      <td>108</td>\n",
       "      <td>NaN</td>\n",
       "    </tr>\n",
       "    <tr>\n",
       "      <th>2</th>\n",
       "      <td>Baby1</td>\n",
       "      <td>2018-08-01 05:44:00</td>\n",
       "      <td>131</td>\n",
       "      <td>NaN</td>\n",
       "    </tr>\n",
       "    <tr>\n",
       "      <th>3</th>\n",
       "      <td>Baby1</td>\n",
       "      <td>2018-08-01 09:05:00</td>\n",
       "      <td>83</td>\n",
       "      <td>NaN</td>\n",
       "    </tr>\n",
       "    <tr>\n",
       "      <th>4</th>\n",
       "      <td>Baby1</td>\n",
       "      <td>2018-08-01 11:16:00</td>\n",
       "      <td>109</td>\n",
       "      <td>NaN</td>\n",
       "    </tr>\n",
       "  </tbody>\n",
       "</table>\n",
       "</div>"
      ],
      "text/plain": [
       "    Baby                Time  Duration(minutes)  Note\n",
       "0  Baby1 2018-08-01 00:38:00                 92   NaN\n",
       "1  Baby1 2018-08-01 03:11:00                108   NaN\n",
       "2  Baby1 2018-08-01 05:44:00                131   NaN\n",
       "3  Baby1 2018-08-01 09:05:00                 83   NaN\n",
       "4  Baby1 2018-08-01 11:16:00                109   NaN"
      ]
     },
     "execution_count": 1,
     "metadata": {},
     "output_type": "execute_result"
    }
   ],
   "source": [
    "import pandas as pd\n",
    "sleep = pd.read_csv('Baby1_sleep.csv',parse_dates=[1])\n",
    "sleep.head()"
   ]
  },
  {
   "cell_type": "code",
   "execution_count": 2,
   "metadata": {
    "ExecuteTime": {
     "end_time": "2018-08-21T13:24:43.213585Z",
     "start_time": "2018-08-21T13:24:43.155943Z"
    }
   },
   "outputs": [
    {
     "data": {
      "text/html": [
       "<div>\n",
       "<style scoped>\n",
       "    .dataframe tbody tr th:only-of-type {\n",
       "        vertical-align: middle;\n",
       "    }\n",
       "\n",
       "    .dataframe tbody tr th {\n",
       "        vertical-align: top;\n",
       "    }\n",
       "\n",
       "    .dataframe thead th {\n",
       "        text-align: right;\n",
       "    }\n",
       "</style>\n",
       "<table border=\"1\" class=\"dataframe\">\n",
       "  <thead>\n",
       "    <tr style=\"text-align: right;\">\n",
       "      <th></th>\n",
       "      <th>Baby</th>\n",
       "      <th>Time</th>\n",
       "      <th>Status</th>\n",
       "      <th>Note</th>\n",
       "    </tr>\n",
       "  </thead>\n",
       "  <tbody>\n",
       "    <tr>\n",
       "      <th>0</th>\n",
       "      <td>Bab1</td>\n",
       "      <td>2018-08-01 02:22:00</td>\n",
       "      <td>Mixed</td>\n",
       "      <td>NaN</td>\n",
       "    </tr>\n",
       "    <tr>\n",
       "      <th>1</th>\n",
       "      <td>Bab1</td>\n",
       "      <td>2018-08-01 05:11:00</td>\n",
       "      <td>Mixed</td>\n",
       "      <td>NaN</td>\n",
       "    </tr>\n",
       "    <tr>\n",
       "      <th>2</th>\n",
       "      <td>Bab1</td>\n",
       "      <td>2018-08-01 08:05:00</td>\n",
       "      <td>Mixed</td>\n",
       "      <td>NaN</td>\n",
       "    </tr>\n",
       "    <tr>\n",
       "      <th>3</th>\n",
       "      <td>Bab1</td>\n",
       "      <td>2018-08-01 10:40:00</td>\n",
       "      <td>Mixed</td>\n",
       "      <td>NaN</td>\n",
       "    </tr>\n",
       "    <tr>\n",
       "      <th>4</th>\n",
       "      <td>Bab1</td>\n",
       "      <td>2018-08-01 13:25:00</td>\n",
       "      <td>Mixed</td>\n",
       "      <td>NaN</td>\n",
       "    </tr>\n",
       "  </tbody>\n",
       "</table>\n",
       "</div>"
      ],
      "text/plain": [
       "   Baby                Time Status  Note\n",
       "0  Bab1 2018-08-01 02:22:00  Mixed   NaN\n",
       "1  Bab1 2018-08-01 05:11:00  Mixed   NaN\n",
       "2  Bab1 2018-08-01 08:05:00  Mixed   NaN\n",
       "3  Bab1 2018-08-01 10:40:00  Mixed   NaN\n",
       "4  Bab1 2018-08-01 13:25:00  Mixed   NaN"
      ]
     },
     "execution_count": 2,
     "metadata": {},
     "output_type": "execute_result"
    }
   ],
   "source": [
    "diaper = pd.read_csv('Baby1_diaper.csv',parse_dates=[1])\n",
    "diaper.head()"
   ]
  },
  {
   "cell_type": "code",
   "execution_count": null,
   "metadata": {
    "collapsed": true
   },
   "outputs": [],
   "source": []
  }
 ],
 "metadata": {
  "kernelspec": {
   "display_name": "Python 3",
   "language": "python",
   "name": "python3"
  },
  "language_info": {
   "codemirror_mode": {
    "name": "ipython",
    "version": 3
   },
   "file_extension": ".py",
   "mimetype": "text/x-python",
   "name": "python",
   "nbconvert_exporter": "python",
   "pygments_lexer": "ipython3",
   "version": "3.6.3"
  }
 },
 "nbformat": 4,
 "nbformat_minor": 2
}
