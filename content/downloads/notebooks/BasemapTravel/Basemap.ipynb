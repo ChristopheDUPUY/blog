{
 "cells": [
  {
   "cell_type": "code",
   "execution_count": 1,
   "metadata": {
    "ExecuteTime": {
     "end_time": "2018-03-25T09:58:48.867427Z",
     "start_time": "2018-03-25T09:58:48.530933Z"
    }
   },
   "outputs": [
    {
     "data": {
      "text/html": [
       "<div>\n",
       "<style scoped>\n",
       "    .dataframe tbody tr th:only-of-type {\n",
       "        vertical-align: middle;\n",
       "    }\n",
       "\n",
       "    .dataframe tbody tr th {\n",
       "        vertical-align: top;\n",
       "    }\n",
       "\n",
       "    .dataframe thead th {\n",
       "        text-align: right;\n",
       "    }\n",
       "</style>\n",
       "<table border=\"1\" class=\"dataframe\">\n",
       "  <thead>\n",
       "    <tr style=\"text-align: right;\">\n",
       "      <th></th>\n",
       "      <th>Name_Orig</th>\n",
       "      <th>Lat_Orig</th>\n",
       "      <th>Lng_Orig</th>\n",
       "      <th>Name_Des</th>\n",
       "      <th>Lat_Des</th>\n",
       "      <th>Lng_Des</th>\n",
       "    </tr>\n",
       "  </thead>\n",
       "  <tbody>\n",
       "    <tr>\n",
       "      <th>0</th>\n",
       "      <td>Torrance, CA</td>\n",
       "      <td>33.84</td>\n",
       "      <td>-118.34</td>\n",
       "      <td>Paso Robles, CA</td>\n",
       "      <td>35.64</td>\n",
       "      <td>-120.66</td>\n",
       "    </tr>\n",
       "    <tr>\n",
       "      <th>1</th>\n",
       "      <td>Torrance, CA</td>\n",
       "      <td>33.84</td>\n",
       "      <td>-118.34</td>\n",
       "      <td>Mobile, AL</td>\n",
       "      <td>30.70</td>\n",
       "      <td>-88.04</td>\n",
       "    </tr>\n",
       "    <tr>\n",
       "      <th>2</th>\n",
       "      <td>Torrance, CA</td>\n",
       "      <td>33.84</td>\n",
       "      <td>-118.34</td>\n",
       "      <td>Anaheim, CA</td>\n",
       "      <td>33.84</td>\n",
       "      <td>-117.92</td>\n",
       "    </tr>\n",
       "    <tr>\n",
       "      <th>3</th>\n",
       "      <td>Torrance, CA</td>\n",
       "      <td>33.84</td>\n",
       "      <td>-118.34</td>\n",
       "      <td>Sacramento, CA</td>\n",
       "      <td>38.58</td>\n",
       "      <td>-121.49</td>\n",
       "    </tr>\n",
       "    <tr>\n",
       "      <th>4</th>\n",
       "      <td>Sacramento, CA</td>\n",
       "      <td>38.58</td>\n",
       "      <td>-121.49</td>\n",
       "      <td>Reno, NV</td>\n",
       "      <td>39.53</td>\n",
       "      <td>-119.81</td>\n",
       "    </tr>\n",
       "  </tbody>\n",
       "</table>\n",
       "</div>"
      ],
      "text/plain": [
       "        Name_Orig  Lat_Orig  Lng_Orig         Name_Des  Lat_Des  Lng_Des\n",
       "0    Torrance, CA     33.84   -118.34  Paso Robles, CA    35.64  -120.66\n",
       "1    Torrance, CA     33.84   -118.34       Mobile, AL    30.70   -88.04\n",
       "2    Torrance, CA     33.84   -118.34      Anaheim, CA    33.84  -117.92\n",
       "3    Torrance, CA     33.84   -118.34   Sacramento, CA    38.58  -121.49\n",
       "4  Sacramento, CA     38.58   -121.49         Reno, NV    39.53  -119.81"
      ]
     },
     "execution_count": 1,
     "metadata": {},
     "output_type": "execute_result"
    }
   ],
   "source": [
    "import pandas as pd\n",
    "df = pd.read_csv('2016_travel.csv')\n",
    "df.head()"
   ]
  },
  {
   "cell_type": "code",
   "execution_count": null,
   "metadata": {
    "collapsed": true
   },
   "outputs": [],
   "source": []
  }
 ],
 "metadata": {
  "kernelspec": {
   "display_name": "Python 3",
   "language": "python",
   "name": "python3"
  },
  "language_info": {
   "codemirror_mode": {
    "name": "ipython",
    "version": 3
   },
   "file_extension": ".py",
   "mimetype": "text/x-python",
   "name": "python",
   "nbconvert_exporter": "python",
   "pygments_lexer": "ipython3",
   "version": "3.6.3"
  },
  "toc": {
   "nav_menu": {},
   "number_sections": true,
   "sideBar": true,
   "skip_h1_title": false,
   "toc_cell": false,
   "toc_position": {},
   "toc_section_display": "block",
   "toc_window_display": false
  }
 },
 "nbformat": 4,
 "nbformat_minor": 1
}
