{
 "cells": [
  {
   "cell_type": "markdown",
   "metadata": {},
   "source": [
    "## This Is An IPython Notebook"
   ]
  },
  {
   "cell_type": "markdown",
   "metadata": {},
   "source": [
    "Here is some code:"
   ]
  },
  {
   "cell_type": "code",
   "execution_count": 1,
   "metadata": {
    "ExecuteTime": {
     "end_time": "2018-04-21T22:18:14.353511Z",
     "start_time": "2018-04-21T22:18:14.016165Z"
    },
    "collapsed": true
   },
   "outputs": [],
   "source": [
    "import pandas as pd\n",
    "import numpy as np"
   ]
  },
  {
   "cell_type": "code",
   "execution_count": 2,
   "metadata": {
    "ExecuteTime": {
     "end_time": "2018-04-21T22:18:14.363183Z",
     "start_time": "2018-04-21T22:18:14.355433Z"
    }
   },
   "outputs": [
    {
     "name": "stdout",
     "output_type": "stream",
     "text": [
      "pandas      0.22.0\n",
      "numpy       1.13.3\n",
      "2018-04-21\n"
     ]
    }
   ],
   "source": [
    "%load_ext watermark\n",
    "%watermark -d -iv"
   ]
  },
  {
   "cell_type": "code",
   "execution_count": 3,
   "metadata": {
    "ExecuteTime": {
     "end_time": "2018-04-21T22:18:15.059260Z",
     "start_time": "2018-04-21T22:18:14.364879Z"
    }
   },
   "outputs": [],
   "source": [
    "df = pd.read_html('https://en.wikipedia.org/wiki/List_of_sculptures_in_the_National_Statuary_Hall_Collection')"
   ]
  },
  {
   "cell_type": "code",
   "execution_count": 4,
   "metadata": {
    "ExecuteTime": {
     "end_time": "2018-04-21T22:18:15.081986Z",
     "start_time": "2018-04-21T22:18:15.061009Z"
    }
   },
   "outputs": [
    {
     "data": {
      "text/html": [
       "<div>\n",
       "<style scoped>\n",
       "    .dataframe tbody tr th:only-of-type {\n",
       "        vertical-align: middle;\n",
       "    }\n",
       "\n",
       "    .dataframe tbody tr th {\n",
       "        vertical-align: top;\n",
       "    }\n",
       "\n",
       "    .dataframe thead th {\n",
       "        text-align: right;\n",
       "    }\n",
       "</style>\n",
       "<table border=\"1\" class=\"dataframe\">\n",
       "  <thead>\n",
       "    <tr style=\"text-align: right;\">\n",
       "      <th>1</th>\n",
       "      <th>AL</th>\n",
       "      <th>Keller, HelenHelen Keller See also: Helen Keller (Hlavka)</th>\n",
       "      <th>nan</th>\n",
       "      <th>Bronze</th>\n",
       "      <th>Edward Hlavka</th>\n",
       "      <th>2009</th>\n",
       "      <th>Capitol Visitor Center[1]</th>\n",
       "    </tr>\n",
       "  </thead>\n",
       "  <tbody>\n",
       "    <tr>\n",
       "      <th>0</th>\n",
       "      <td>State</td>\n",
       "      <td>Honoree</td>\n",
       "      <td>Image</td>\n",
       "      <td>Medium</td>\n",
       "      <td>Sculptor</td>\n",
       "      <td>Date placed</td>\n",
       "      <td>Location</td>\n",
       "    </tr>\n",
       "    <tr>\n",
       "      <th>1</th>\n",
       "      <td>AL</td>\n",
       "      <td>Keller, HelenHelen Keller See also: Helen Kell...</td>\n",
       "      <td>NaN</td>\n",
       "      <td>Bronze</td>\n",
       "      <td>Edward Hlavka</td>\n",
       "      <td>2009</td>\n",
       "      <td>Capitol Visitor Center[1]</td>\n",
       "    </tr>\n",
       "    <tr>\n",
       "      <th>2</th>\n",
       "      <td>AL</td>\n",
       "      <td>Wheeler, JosephJoseph Wheeler See also: Joseph...</td>\n",
       "      <td>NaN</td>\n",
       "      <td>Bronze</td>\n",
       "      <td>Berthold Nebel</td>\n",
       "      <td>1925</td>\n",
       "      <td>National Statuary Hall</td>\n",
       "    </tr>\n",
       "    <tr>\n",
       "      <th>3</th>\n",
       "      <td>AK</td>\n",
       "      <td>Bartlett, Edward Lewis \"Bob\"Edward Lewis \"Bob\"...</td>\n",
       "      <td>NaN</td>\n",
       "      <td>Bronze</td>\n",
       "      <td>Felix W. de Weldon</td>\n",
       "      <td>1971</td>\n",
       "      <td>House corridor, 2nd Floor</td>\n",
       "    </tr>\n",
       "    <tr>\n",
       "      <th>4</th>\n",
       "      <td>AK</td>\n",
       "      <td>Gruening, ErnestErnest Gruening See also: Erne...</td>\n",
       "      <td>NaN</td>\n",
       "      <td>Bronze</td>\n",
       "      <td>George Anthonisen</td>\n",
       "      <td>1977</td>\n",
       "      <td>Capitol Visitor Center</td>\n",
       "    </tr>\n",
       "  </tbody>\n",
       "</table>\n",
       "</div>"
      ],
      "text/plain": [
       "1     AL Keller, HelenHelen Keller See also: Helen Keller (Hlavka)    NaN  \\\n",
       "0  State                                            Honoree         Image   \n",
       "1     AL  Keller, HelenHelen Keller See also: Helen Kell...           NaN   \n",
       "2     AL  Wheeler, JosephJoseph Wheeler See also: Joseph...           NaN   \n",
       "3     AK  Bartlett, Edward Lewis \"Bob\"Edward Lewis \"Bob\"...           NaN   \n",
       "4     AK  Gruening, ErnestErnest Gruening See also: Erne...           NaN   \n",
       "\n",
       "1  Bronze       Edward Hlavka         2009  Capitol Visitor Center[1]  \n",
       "0  Medium            Sculptor  Date placed                   Location  \n",
       "1  Bronze       Edward Hlavka         2009  Capitol Visitor Center[1]  \n",
       "2  Bronze      Berthold Nebel         1925     National Statuary Hall  \n",
       "3  Bronze  Felix W. de Weldon         1971  House corridor, 2nd Floor  \n",
       "4  Bronze   George Anthonisen         1977     Capitol Visitor Center  "
      ]
     },
     "execution_count": 4,
     "metadata": {},
     "output_type": "execute_result"
    }
   ],
   "source": [
    "df = df[0]\n",
    "df.columns = df.iloc[1]\n",
    "df.reindex(df.index.drop(1))\n",
    "df.head()"
   ]
  },
  {
   "cell_type": "markdown",
   "metadata": {},
   "source": [
    "# Bootstrap Elements\n",
    "From Here: https://getbootstrap.com/docs/3.3/css/"
   ]
  },
  {
   "cell_type": "markdown",
   "metadata": {},
   "source": [
    "## Warnings"
   ]
  },
  {
   "cell_type": "markdown",
   "metadata": {
    "collapsed": true
   },
   "source": [
    "<div class=\"alert alert-info\">\n",
    "   <strong>Hi!</strong> This is a blue note.\n",
    "</div>\n",
    "\n",
    "More Text\n",
    "\n",
    "<div class=\"alert alert-success\">\n",
    "   <strong>Hi!</strong> This is a success note.\n",
    "</div>\n",
    "\n",
    "More Text\n",
    "\n",
    "<div class=\"alert alert-warning\">\n",
    "   <strong>Hi!</strong> This is a warning note.\n",
    "</div>\n",
    "\n",
    "More Text\n",
    "\n",
    "<div class=\"alert alert-danger\">\n",
    "   <strong>Hi!</strong> This is a danger note.\n",
    "</div>"
   ]
  },
  {
   "cell_type": "markdown",
   "metadata": {
    "collapsed": true
   },
   "source": [
    "## Contextual backgrounds"
   ]
  },
  {
   "cell_type": "markdown",
   "metadata": {
    "ExecuteTime": {
     "end_time": "2018-04-09T15:08:51.031357Z",
     "start_time": "2018-04-09T15:08:51.025388Z"
    }
   },
   "source": [
    "<p class=\"bg-primary\">Primary paragraph text</p>\n",
    "<p class=\"bg-success\">success paragraph text</p>\n",
    "<p class=\"bg-info\">info paragraph text</p>\n",
    "<p class=\"bg-warning\">warning paragraph text</p>\n",
    "<p class=\"bg-danger\">danger paragraph text</p>"
   ]
  },
  {
   "cell_type": "markdown",
   "metadata": {},
   "source": [
    "## Buttons"
   ]
  },
  {
   "cell_type": "markdown",
   "metadata": {},
   "source": [
    "<!-- Standard button -->\n",
    "<button type=\"button\" class=\"btn btn-default\">Default</button>\n",
    "\n",
    "<!-- Provides extra visual weight and identifies the primary action in a set of buttons -->\n",
    "<button type=\"button\" class=\"btn btn-primary\">Primary</button>\n",
    "\n",
    "<!-- Indicates a successful or positive action -->\n",
    "<button type=\"button\" class=\"btn btn-success\">Success</button>\n",
    "\n",
    "<!-- Contextual button for informational alert messages -->\n",
    "<button type=\"button\" class=\"btn btn-info\">Info</button>\n",
    "\n",
    "<!-- Indicates caution should be taken with this action -->\n",
    "<button type=\"button\" class=\"btn btn-warning\">Warning</button>\n",
    "\n",
    "<!-- Indicates a dangerous or potentially negative action -->\n",
    "<button type=\"button\" class=\"btn btn-danger\">Danger</button>\n",
    "\n",
    "<!-- Deemphasize a button by making it look like a link while maintaining button behavior -->\n",
    "<button type=\"button\" class=\"btn btn-link\">Link</button>"
   ]
  },
  {
   "cell_type": "code",
   "execution_count": null,
   "metadata": {
    "collapsed": true
   },
   "outputs": [],
   "source": []
  },
  {
   "cell_type": "code",
   "execution_count": null,
   "metadata": {
    "collapsed": true
   },
   "outputs": [],
   "source": []
  },
  {
   "cell_type": "code",
   "execution_count": null,
   "metadata": {
    "collapsed": true
   },
   "outputs": [],
   "source": []
  },
  {
   "cell_type": "code",
   "execution_count": null,
   "metadata": {
    "collapsed": true
   },
   "outputs": [],
   "source": []
  }
 ],
 "metadata": {
  "kernelspec": {
   "display_name": "Python 3",
   "language": "python",
   "name": "python3"
  },
  "language_info": {
   "codemirror_mode": {
    "name": "ipython",
    "version": 3
   },
   "file_extension": ".py",
   "mimetype": "text/x-python",
   "name": "python",
   "nbconvert_exporter": "python",
   "pygments_lexer": "ipython3",
   "version": "3.6.3"
  },
  "toc": {
   "nav_menu": {},
   "number_sections": true,
   "sideBar": true,
   "skip_h1_title": false,
   "toc_cell": false,
   "toc_position": {},
   "toc_section_display": "block",
   "toc_window_display": false
  }
 },
 "nbformat": 4,
 "nbformat_minor": 1
}
