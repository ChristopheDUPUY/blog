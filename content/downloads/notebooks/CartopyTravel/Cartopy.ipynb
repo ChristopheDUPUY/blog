{
 "cells": [
  {
   "cell_type": "code",
   "execution_count": 1,
   "metadata": {
    "ExecuteTime": {
     "end_time": "2018-04-20T00:57:04.726592Z",
     "start_time": "2018-04-20T00:57:04.087354Z"
    },
    "collapsed": true
   },
   "outputs": [],
   "source": [
    "%matplotlib inline\n",
    "import matplotlib\n",
    "import cartopy\n",
    "import pandas as pd\n"
   ]
  },
  {
   "cell_type": "markdown",
   "metadata": {},
   "source": [
    "Ground track plot:"
   ]
  },
  {
   "cell_type": "code",
   "execution_count": null,
   "metadata": {
    "ExecuteTime": {
     "end_time": "2018-04-19T23:26:23.367852Z",
     "start_time": "2018-04-19T23:26:23.300032Z"
    },
    "collapsed": true
   },
   "outputs": [],
   "source": [
    "import matplotlib.pyplot as plt\n",
    "import cartopy.crs as ccrs\n",
    "\n",
    "ax = plt.axes(projection=ccrs.Robinson())\n",
    "ax.set_global()\n",
    "ax.coastlines()\n",
    "\n",
    "# [lng1, lng2], [lat1, lat2]\n",
    "plt.plot([-0.08, 132], [51.53, 43.17], color='blue', transform=ccrs.PlateCarree())"
   ]
  },
  {
   "cell_type": "markdown",
   "metadata": {},
   "source": [
    "First we make a simple great circle line plot using Cartopy: "
   ]
  },
  {
   "cell_type": "code",
   "execution_count": null,
   "metadata": {
    "ExecuteTime": {
     "end_time": "2018-04-19T23:26:43.337601Z",
     "start_time": "2018-04-19T23:26:43.267775Z"
    },
    "collapsed": true
   },
   "outputs": [],
   "source": [
    "import matplotlib.pyplot as plt\n",
    "import cartopy.crs as ccrs\n",
    "\n",
    "ax = plt.axes(projection=ccrs.Robinson())\n",
    "ax.set_global()\n",
    "ax.coastlines()\n",
    "\n",
    "# [lng1, lng2], [lat1, lat2]\n",
    "plt.plot([-0.08, 132], [51.53, 43.17], color='#2E5FAC',  transform=ccrs.Geodetic())"
   ]
  },
  {
   "cell_type": "markdown",
   "metadata": {},
   "source": [
    "Shade land:"
   ]
  },
  {
   "cell_type": "code",
   "execution_count": null,
   "metadata": {
    "ExecuteTime": {
     "end_time": "2018-04-19T23:27:52.675361Z",
     "start_time": "2018-04-19T23:27:52.562657Z"
    },
    "collapsed": true
   },
   "outputs": [],
   "source": [
    "import matplotlib.pyplot as plt\n",
    "import cartopy.crs as ccrs\n",
    "import cartopy\n",
    "\n",
    "ax = plt.axes(projection=ccrs.Robinson())\n",
    "ax.set_global()\n",
    "ax.coastlines()\n",
    "\n",
    "# color land and water\n",
    "ax.add_feature(cartopy.feature.LAND, zorder=0, edgecolor='#7f7f7f', facecolor='#B1B2B4')\n",
    "ax.add_feature(cartopy.feature.OCEAN, zorder=0, facecolor='white')\n",
    "\n",
    "# [lng1, lng2], [lat1, lat2]\n",
    "plt.plot([-6.26, -82.99], [53.35, 39.96], color='#2E5FAC',  transform=ccrs.Geodetic())"
   ]
  },
  {
   "cell_type": "markdown",
   "metadata": {},
   "source": [
    "Zoom in on region:"
   ]
  },
  {
   "cell_type": "code",
   "execution_count": null,
   "metadata": {
    "ExecuteTime": {
     "end_time": "2018-04-19T23:29:08.075233Z",
     "start_time": "2018-04-19T23:29:07.992079Z"
    },
    "collapsed": true
   },
   "outputs": [],
   "source": [
    "%matplotlib inline\n",
    "import matplotlib.pyplot as plt\n",
    "import cartopy.crs as ccrs\n",
    "import cartopy\n",
    "\n",
    "ax = plt.axes(projection=ccrs.Robinson())\n",
    "\n",
    "ax.set_global()\n",
    "ax.coastlines()\n",
    "\n",
    "# [lon_min, lon_max, lat_min, lat_max]\n",
    "ax.set_extent([-140, 20, 20, 65], crs=ccrs.PlateCarree())\n",
    "\n",
    "# color land and water\n",
    "ax.add_feature(cartopy.feature.LAND, zorder=0, edgecolor='#7f7f7f', facecolor='#B1B2B4')\n",
    "ax.add_feature(cartopy.feature.OCEAN, zorder=0, facecolor='white')\n",
    "\n",
    "# [lon1, lon2], [lat1, lat2]\n",
    "plt.plot([-6.26, -82.99], [53.35, 39.96], color='#2E5FAC', marker='o',transform=ccrs.Geodetic())"
   ]
  },
  {
   "cell_type": "markdown",
   "metadata": {},
   "source": [
    "Add borders:"
   ]
  },
  {
   "cell_type": "code",
   "execution_count": null,
   "metadata": {
    "ExecuteTime": {
     "end_time": "2018-04-19T23:41:44.905229Z",
     "start_time": "2018-04-19T23:41:44.764455Z"
    },
    "collapsed": true
   },
   "outputs": [],
   "source": [
    "%matplotlib inline\n",
    "import matplotlib.pyplot as plt\n",
    "import cartopy.crs as ccrs\n",
    "import cartopy.feature as cfeature\n",
    "import cartopy\n",
    "\n",
    "ax = plt.axes(projection=ccrs.Robinson())\n",
    "\n",
    "ax.set_global()\n",
    "ax.coastlines()\n",
    "\n",
    "# [lon_min, lon_max, lat_min, lat_max]\n",
    "ax.set_extent([-140, 20, 20, 65], crs=ccrs.PlateCarree())\n",
    "\n",
    "# color land and water\n",
    "ax.add_feature(cartopy.feature.LAND, zorder=0, edgecolor='#7f7f7f', facecolor='#B1B2B4')\n",
    "ax.add_feature(cartopy.feature.OCEAN, zorder=0, facecolor='white')\n",
    "\n",
    "# country borders\n",
    "ax.add_feature(cartopy.feature.BORDERS, zorder=0, edgecolor='#000000')\n",
    "\n",
    "# state borders\n",
    "states_provinces = cfeature.NaturalEarthFeature(\n",
    "        category='cultural',\n",
    "        name='admin_1_states_provinces_lines',\n",
    "        scale='50m',\n",
    "        facecolor='none')\n",
    "ax.add_feature(states_provinces, edgecolor='#D3D3D3')\n",
    "\n",
    "# [lon1, lon2], [lat1, lat2]\n",
    "plt.plot([-6.26, -82.99], [53.35, 39.96], color='#2E5FAC', marker='o',transform=ccrs.Geodetic())"
   ]
  },
  {
   "cell_type": "markdown",
   "metadata": {},
   "source": [
    "Create function and plot items in df:"
   ]
  },
  {
   "cell_type": "code",
   "execution_count": 3,
   "metadata": {
    "ExecuteTime": {
     "end_time": "2018-04-20T00:58:48.505606Z",
     "start_time": "2018-04-20T00:58:47.802919Z"
    }
   },
   "outputs": [
    {
     "data": {
      "image/png": "[encoded data removed]",
      "text/plain": [
       "<Figure size 432x288 with 1 Axes>"
      ]
     },
     "metadata": {},
     "output_type": "display_data"
    }
   ],
   "source": [
    "def plot_great_circles(df,title):\n",
    "    import matplotlib.pyplot as plt\n",
    "    import cartopy.crs as ccrs\n",
    "    import cartopy.feature as cfeature\n",
    "    import cartopy\n",
    "\n",
    "    ax = plt.axes(projection=ccrs.Robinson())\n",
    "\n",
    "    ax.set_global()\n",
    "    ax.coastlines('50m', linewidth=0.2)\n",
    "\n",
    "    # [lon_min, lon_max, lat_min, lat_max]\n",
    "    ax.set_extent([-120, 10, 20, 65], crs=ccrs.PlateCarree())\n",
    "\n",
    "    # color land and water\n",
    "    LAND_highres = cfeature.NaturalEarthFeature('physical', 'land', '50m',\n",
    "                                                edgecolor='white',\n",
    "                                                facecolor='#B1B2B',\n",
    "                                                linewidth=.1\n",
    "                                               )\n",
    "    ax.add_feature(LAND_highres, zorder=0, edgecolor='#7f7f7f', facecolor='#B1B2B4')\n",
    "\n",
    "    # country borders\n",
    "    ax.add_feature(cartopy.feature.BORDERS, zorder=0, edgecolor='#000000', linewidth=.1)\n",
    "\n",
    "    # state borders\n",
    "    states_provinces = cfeature.NaturalEarthFeature(\n",
    "            category='cultural',\n",
    "            name='admin_1_states_provinces_lines',\n",
    "            scale='50m',\n",
    "            facecolor='none', linewidth=.1)\n",
    "    ax.add_feature(states_provinces, edgecolor='#D3D3D3')\n",
    "\n",
    "    for row in range(df.shape[0]):\n",
    "        # [lon1, lon2], [lat1, lat2]\n",
    "        Lat_Orig = df.loc[df.index[row],'Lat_Orig']\n",
    "        Lng_Orig = df.loc[df.index[row],'Lng_Orig']\n",
    "        Lat_Des = df.loc[df.index[row],'Lat_Des']\n",
    "        Lng_Des = df.loc[df.index[row],'Lng_Des']\n",
    "        plt.plot([Lng_Orig, Lng_Des], [Lat_Orig, Lat_Des], \n",
    "                 color='#2E5FAC', marker='o', linewidth=.5,\n",
    "                 markerfacecolor='#CF5300',markeredgecolor='#CF5300',markersize=1,\n",
    "                 transform=ccrs.Geodetic())\n",
    "    \n",
    "    plt.savefig(title,bbox_inches='tight', dpi=300)\n",
    "    \n",
    "df = pd.read_csv('2018_travel.csv')\n",
    "title='2018 Travel.png'\n",
    "plot_great_circles(df,title)\n"
   ]
  },
  {
   "cell_type": "code",
   "execution_count": null,
   "metadata": {
    "collapsed": true
   },
   "outputs": [],
   "source": []
  },
  {
   "cell_type": "code",
   "execution_count": null,
   "metadata": {
    "collapsed": true
   },
   "outputs": [],
   "source": []
  },
  {
   "cell_type": "code",
   "execution_count": null,
   "metadata": {
    "collapsed": true
   },
   "outputs": [],
   "source": []
  },
  {
   "cell_type": "code",
   "execution_count": null,
   "metadata": {
    "ExecuteTime": {
     "end_time": "2018-04-20T00:47:35.941090Z",
     "start_time": "2018-04-20T00:47:35.604552Z"
    },
    "collapsed": true
   },
   "outputs": [],
   "source": [
    "%matplotlib inline\n",
    "import matplotlib.pyplot as plt\n",
    "import cartopy.crs as ccrs\n",
    "import cartopy\n",
    "\n",
    "#https://stackoverflow.com/questions/40270990/cartopy-higher-resolution-for-great-circle-distance-line\n",
    "# class LowerThresholdMercator(ccrs.Mercator):\n",
    "#     @property\n",
    "#     def threshold(self):\n",
    "#         return 1e3\n",
    "# class LowerThresholdRobinson(ccrs.Robinson):\n",
    "#     @property\n",
    "#     def threshold(self):\n",
    "#         return 1e3\n",
    "\n",
    "# ax = plt.axes(projection=ccrs.Robinson(central_longitude=-60, min_latitude=20,\n",
    "# \tmax_latitude=65, latitude_true_scale=30))\n",
    "ax = plt.axes(projection=ccrs.Robinson())\n",
    "\n",
    "ax.set_global()\n",
    "ax.coastlines()\n",
    "\n",
    "# [lon_min, lon_max, lat_min, lat_max]\n",
    "ax.set_extent([-140, 20, 20, 65], crs=ccrs.PlateCarree())\n",
    "\n",
    "# color land and water\n",
    "ax.add_feature(cartopy.feature.LAND, zorder=0, edgecolor='#7f7f7f', facecolor='#B1B2B4')\n",
    "ax.add_feature(cartopy.feature.OCEAN, zorder=0, facecolor='white')\n",
    "\n",
    "# [lon1, lon2], [lat1, lat2]\n",
    "plt.plot([-6.26, -82.99], [53.35, 39.96], color='#2E5FAC', marker='o',transform=ccrs.Geodetic(), markerfacecolor='red')\n",
    "\n",
    "plt.savefig('cartopy.png',bbox_inches='tight', dpi=300)"
   ]
  },
  {
   "cell_type": "code",
   "execution_count": null,
   "metadata": {
    "collapsed": true
   },
   "outputs": [],
   "source": []
  },
  {
   "cell_type": "code",
   "execution_count": null,
   "metadata": {
    "collapsed": true
   },
   "outputs": [],
   "source": []
  },
  {
   "cell_type": "code",
   "execution_count": 11,
   "metadata": {
    "ExecuteTime": {
     "end_time": "2018-04-20T00:53:01.808296Z",
     "start_time": "2018-04-20T00:53:01.798094Z"
    }
   },
   "outputs": [
    {
     "name": "stdout",
     "output_type": "stream",
     "text": [
      "matplotlib  2.2.2\n",
      "cartopy     0.16.0\n",
      "pandas      0.22.0\n",
      "\n"
     ]
    }
   ],
   "source": [
    "%load_ext watermark\n",
    "%watermark -iv"
   ]
  },
  {
   "cell_type": "code",
   "execution_count": null,
   "metadata": {
    "collapsed": true
   },
   "outputs": [],
   "source": []
  }
 ],
 "metadata": {
  "kernelspec": {
   "display_name": "Python 3",
   "language": "python",
   "name": "python3"
  },
  "language_info": {
   "codemirror_mode": {
    "name": "ipython",
    "version": 3
   },
   "file_extension": ".py",
   "mimetype": "text/x-python",
   "name": "python",
   "nbconvert_exporter": "python",
   "pygments_lexer": "ipython3",
   "version": "3.6.3"
  },
  "toc": {
   "nav_menu": {},
   "number_sections": true,
   "sideBar": true,
   "skip_h1_title": false,
   "toc_cell": false,
   "toc_position": {},
   "toc_section_display": "block",
   "toc_window_display": false
  }
 },
 "nbformat": 4,
 "nbformat_minor": 1
}
